{
 "cells": [
  {
   "cell_type": "code",
   "execution_count": 126,
   "metadata": {},
   "outputs": [],
   "source": [
    "import pandas as pd\n",
    "import requests"
   ]
  },
  {
   "cell_type": "code",
   "execution_count": 127,
   "metadata": {},
   "outputs": [],
   "source": [
    "schools_url = \"https://aprilascuola.provincia.tn.it/sei//api/istituzioneScolastica/istituzioni/ricerca\"\n",
    "search_school_url =  \"https://aprilascuola.provincia.tn.it/sei//api/istituzioneScolastica/istituzioni/0CODE\"\n",
    "#search_school_url = \"https://www.istruzione.provincia.tn.it/services/sei/api/v1/institutes/students/0CODE\"\n",
    "schools_trentino = pd.read_json(schools_url)\n",
    "schools_trentino_covid_url = \"https://www.vivoscuola.it/Coronavirus/NEWS/Numero-di-sezioni-classi-messe-in-quarantena-preventiva\"\n",
    "elenco_scuole=\"https://www.vivoscuola.it/facetsearch/datatable_search/istituto_plesso/viv_istituto|viv_plesso|institutetype|legalstate|dirigente_scolastico|direttore|coordinatore_pedagogico|viv_indirizzo|municipality|phone|fax|email|manageremail|officeemail|website|miurcode/extra_tipoistruzione_name____s|miurcode|legalstate|extra_adulti_name____s|extra_comune_name____s|typelocation/265/CSV?simpleQuery=&query=&extra_tipoistruzione_name____s=&miurcode=&legalstate=&extra_adulti_name____s=&show=10&extra_comune_name____s=&typelocation=&show=10\""
   ]
  },
  {
   "cell_type": "code",
   "execution_count": 128,
   "metadata": {},
   "outputs": [],
   "source": [
    "def getStatusTipoScuola(valore):\n",
    "    if (type(valore) == tuple):\n",
    "        valore = valore[0]\n",
    "    status = False\n",
    "    if valore is not None:\n",
    "        status = True\n",
    "    return status"
   ]
  },
  {
   "cell_type": "code",
   "execution_count": 129,
   "metadata": {},
   "outputs": [],
   "source": [
    "def getDataStudentsSchool(idschool):\n",
    "    idschool = str(idschool)\n",
    "    rdata = {}\n",
    "    if (len(idschool) > 4):\n",
    "        search_school = search_school_url.replace(\"CODE\",idschool)\n",
    "    else:\n",
    "        search_school = search_school_url.replace(\"0CODE\",idschool)\n",
    "    json_data = requests.get(search_school).json()\n",
    "    totalstudents =  json_data['totaleStudenti']\n",
    "    totalclasses = json_data['totaleClassi']\n",
    "    #kindinstruction = json_data['tipoIstituzione']\n",
    "    primaria =  json_data['primaria'],\n",
    "    secondaria1grado = json_data['secondaria1grado']\n",
    "    secondaria2grado = json_data['secondaria2grado']\n",
    "    formazioneprof = json_data['formazioneProf']\n",
    "    #infanzia = json_data['infanzia']\n",
    "    if (totalstudents == None):\n",
    "        totalstudents = 0\n",
    "    if (totalclasses == None):\n",
    "        totalclasses = 0\n",
    "    rdata['alunni'] = totalstudents\n",
    "    rdata['classi'] = totalclasses\n",
    "    #rdata['tipoistituzione'] = kindinstruction\n",
    "    rdata['primaria'] = primaria\n",
    "    rdata['secondaria1grado'] = secondaria1grado\n",
    "    rdata['secondaria2grado'] = secondaria2grado\n",
    "    rdata['formazioneprof'] = formazioneprof\n",
    "    #rdata['infanzia'] = infanzia\n",
    "    return rdata\n"
   ]
  },
  {
   "cell_type": "code",
   "execution_count": 130,
   "metadata": {},
   "outputs": [],
   "source": [
    "schools_trentino['extra'] = schools_trentino['codiceProvinciale'].apply(getDataStudentsSchool)"
   ]
  },
  {
   "cell_type": "code",
   "execution_count": 131,
   "metadata": {},
   "outputs": [],
   "source": [
    "schools_trentino = schools_trentino[~schools_trentino.idPadre.isnull()]\n",
    "schools_trentino = pd.concat([schools_trentino, schools_trentino['extra'].apply(lambda x: pd.Series(x))], axis=1)\n",
    "schools_trentino['alunni'] = schools_trentino['extra'].apply(lambda x: x['alunni'])\n",
    "schools_trentino['classi'] = schools_trentino['extra'].apply(lambda x: x['classi'])\n",
    "schools_trentino['primaria'] = schools_trentino['extra'].apply(lambda x: getStatusTipoScuola(x['primaria']))\n",
    "schools_trentino['secondaria1grado'] = schools_trentino['extra'].apply(lambda x: getStatusTipoScuola(x['secondaria1grado']))\n",
    "schools_trentino['secondaria2grado'] = schools_trentino['extra'].apply(lambda x: getStatusTipoScuola(x['secondaria2grado']))\n",
    "schools_trentino['formazione_professionale'] = schools_trentino['extra'].apply(lambda x: getStatusTipoScuola(x['formazioneprof']))"
   ]
  },
  {
   "cell_type": "code",
   "execution_count": 132,
   "metadata": {},
   "outputs": [],
   "source": [
    "del schools_trentino['istituzionePadre']\n",
    "del schools_trentino['extra']\n",
    "del schools_trentino['idPadre']\n",
    "del schools_trentino['idobj']\n",
    "del schools_trentino['formazioneprof']"
   ]
  },
  {
   "cell_type": "code",
   "execution_count": 133,
   "metadata": {},
   "outputs": [],
   "source": [
    "schools_trentino[['codiceProvinciale','codiceMiur','denominazioneUfficiale','primaria','secondaria1grado','secondaria2grado','formazione_professionale','indirizzo','email','latitudeY','longitudeX','comune','alunni']].to_csv('alunni_scuole_trentino.csv',index=False)"
   ]
  },
  {
   "cell_type": "code",
   "execution_count": 134,
   "metadata": {},
   "outputs": [],
   "source": [
    "schools_trentino_covid = pd.read_html(schools_trentino_covid_url,header=0)[0]"
   ]
  },
  {
   "cell_type": "code",
   "execution_count": 135,
   "metadata": {},
   "outputs": [],
   "source": [
    "schools_trentino_covid.to_csv(\"alunni_scuole_trentino_quarantena.csv\",index=False)"
   ]
  },
  {
   "cell_type": "code",
   "execution_count": 136,
   "metadata": {},
   "outputs": [],
   "source": [
    "def changeDataRilevamento(v):\n",
    "    if v.find(\"2021\") == -1:\n",
    "        if (v.split(\" \")[1]) == \"dicembre\":\n",
    "            v += \" 2021\"\n",
    "        else:\n",
    "            v += \" 2022\"\n",
    "    return v\n"
   ]
  },
  {
   "cell_type": "code",
   "execution_count": 137,
   "metadata": {},
   "outputs": [],
   "source": [
    "schools_trentino_covid['DATARILEVAMENTO'] = schools_trentino_covid['DATARILEVAMENTO'].apply(changeDataRilevamento)"
   ]
  },
  {
   "cell_type": "code",
   "execution_count": 138,
   "metadata": {},
   "outputs": [],
   "source": [
    "schools_trentino_covid.rename(columns={\n",
    "        'DATARILEVAMENTO':'data_rilevamento',\n",
    "        'SCUOLAPRIMARIA':'scuola_primaria',\n",
    "        'SCUOLA SECONDARIADI I GRADO':'scuola_secondaria_primo_grado',\n",
    "        'SCUOLA SECONDARIADI II GRADO':'scuola_secondaria_secondo_grado',\n",
    "        'TAGESMUTTER':'tagesmutter',\n",
    "        \"NIDID'INFANZIA\":'nido_infanzia',\n",
    "        \"SCUOLAINFANZIA\":'scuola_infanzia'\n",
    "        },inplace=True)"
   ]
  },
  {
   "cell_type": "code",
   "execution_count": 139,
   "metadata": {},
   "outputs": [],
   "source": [
    "def changeDateString(day):\n",
    "    day = day.split(\" \")\n",
    "    g = day[0]\n",
    "    if len(g) <= 2:\n",
    "        if len(g) == 1:\n",
    "            g = \"0\" + g\n",
    "        if len(day) == 2:\n",
    "            daytmp = day[1].split(\"\\xa0\")\n",
    "            m = daytmp[0]\n",
    "            a = daytmp[1]\n",
    "        else:\n",
    "            m = day[1]\n",
    "            a = day[2]\n",
    "    else:\n",
    "        g = day[0].split(\"\\xa0\")[0]\n",
    "        m = day[0].split(\"\\xa0\")[1]\n",
    "        a = day[1]\n",
    "    m = m.lower()\n",
    "    if m == \"gennaio\":\n",
    "        m = \"01\"\n",
    "    elif m == \"febbraio\":\n",
    "        m = \"02\"\n",
    "    elif m == \"marzo\":\n",
    "        m = \"03\"\n",
    "    elif m == \"aprile\":\n",
    "        m = \"04\"\n",
    "    elif m == \"maggio\":\n",
    "        m = \"05\"\n",
    "    elif m == \"giugno\":\n",
    "        m = \"06\"\n",
    "    elif m == \"luglio\":\n",
    "        m = \"07\"\n",
    "    elif m == \"agosto\":\n",
    "        m = \"08\"\n",
    "    elif m == \"settembre\":\n",
    "        m = \"09\"\n",
    "    elif m == \"ottobre\":\n",
    "        m = \"10\"\n",
    "    elif m == \"novembre\":\n",
    "        m = \"11\"\n",
    "    elif m == \"dicembre\":\n",
    "        m = \"12\"\n",
    "    day = g + \"/\" + m + \"/\" + a\n",
    "    return day"
   ]
  },
  {
   "cell_type": "code",
   "execution_count": 140,
   "metadata": {},
   "outputs": [],
   "source": [
    "schools_trentino_covid['data_rilevamento'] = schools_trentino_covid['data_rilevamento'].apply(changeDateString)"
   ]
  },
  {
   "cell_type": "code",
   "execution_count": 141,
   "metadata": {},
   "outputs": [],
   "source": [
    "del schools_trentino_covid['TOTALE']"
   ]
  },
  {
   "cell_type": "code",
   "execution_count": 142,
   "metadata": {},
   "outputs": [],
   "source": [
    "schools_trentino_covid.to_csv(\"alunni_scuole_trentino_quarantena_rilevamento.csv\",index=False)"
   ]
  },
  {
   "cell_type": "code",
   "execution_count": 143,
   "metadata": {},
   "outputs": [],
   "source": [
    "totale_studenti_primaria = schools_trentino[schools_trentino['primaria']]['alunni'].sum()"
   ]
  },
  {
   "cell_type": "code",
   "execution_count": 144,
   "metadata": {},
   "outputs": [],
   "source": [
    "totale_studenti_secondaria_primo_grado = schools_trentino[schools_trentino['secondaria1grado']]['alunni'].sum()"
   ]
  },
  {
   "cell_type": "code",
   "execution_count": 145,
   "metadata": {},
   "outputs": [],
   "source": [
    "totale_studenti_secondaria_secondo_grado = schools_trentino[schools_trentino['secondaria2grado']]['alunni'].sum() + schools_trentino[schools_trentino['formazione_professionale']]['alunni'].sum()"
   ]
  },
  {
   "cell_type": "code",
   "execution_count": 146,
   "metadata": {},
   "outputs": [],
   "source": [
    "totale_alunni_per_scuole = pd.DataFrame([[totale_studenti_primaria,totale_studenti_secondaria_primo_grado,totale_studenti_secondaria_secondo_grado]],columns=['totale_alunni_primaria','totale_alunni_secondaria_primo_grado','totale_alunni_secondaria_secondo_grado'])"
   ]
  },
  {
   "cell_type": "code",
   "execution_count": 147,
   "metadata": {},
   "outputs": [],
   "source": [
    "totale_alunni_per_scuole.to_csv(\"totale_alunni_per_scuole_provincia_autonoma_trento.csv\",index=False)"
   ]
  },
  {
   "cell_type": "code",
   "execution_count": 148,
   "metadata": {},
   "outputs": [],
   "source": [
    "def percentualeAlunniQuaratena(alunni,totale):\n",
    "    p = (alunni/totale)*100\n",
    "    p = round(p,1)\n",
    "    return p"
   ]
  },
  {
   "cell_type": "code",
   "execution_count": 149,
   "metadata": {},
   "outputs": [],
   "source": [
    "schools_trentino_covid['percentuale_primaria'] = schools_trentino_covid['scuola_primaria'].apply(lambda x: percentualeAlunniQuaratena(x,totale_studenti_primaria))"
   ]
  },
  {
   "cell_type": "code",
   "execution_count": 150,
   "metadata": {},
   "outputs": [],
   "source": [
    "schools_trentino_covid['percentuale_secondaria_primo_grado']  = schools_trentino_covid['scuola_secondaria_primo_grado'].apply(lambda x: percentualeAlunniQuaratena(x,totale_studenti_secondaria_primo_grado))"
   ]
  },
  {
   "cell_type": "code",
   "execution_count": 151,
   "metadata": {},
   "outputs": [],
   "source": [
    "schools_trentino_covid['percentuale_secondaria_grado']  = schools_trentino_covid['scuola_secondaria_secondo_grado'].apply(lambda x: percentualeAlunniQuaratena(x,totale_studenti_secondaria_secondo_grado))"
   ]
  },
  {
   "cell_type": "code",
   "execution_count": 152,
   "metadata": {},
   "outputs": [],
   "source": [
    "totale_alunni_scuole_primaria_primo_secondo_grado = totale_studenti_primaria + totale_studenti_secondaria_primo_grado + totale_studenti_secondaria_secondo_grado"
   ]
  },
  {
   "cell_type": "code",
   "execution_count": 157,
   "metadata": {},
   "outputs": [],
   "source": [
    "del schools_trentino_covid['totale_alunni']  "
   ]
  },
  {
   "cell_type": "code",
   "execution_count": 159,
   "metadata": {},
   "outputs": [],
   "source": [
    "schools_trentino_covid[['scuola_primaria','percentuale_primaria','scuola_secondaria_primo_grado','percentuale_secondaria_primo_grado','scuola_secondaria_secondo_grado','percentuale_secondaria_grado']].to_csv(\"percentuale_alunni_quarantena_scuole_provincia_autonoma_trento.csv\",index=False)"
   ]
  }
 ],
 "metadata": {
  "interpreter": {
   "hash": "e7370f93d1d0cde622a1f8e1c04877d8463912d04d973331ad4851f04de6915a"
  },
  "kernelspec": {
   "display_name": "Python 3.9.7 64-bit",
   "language": "python",
   "name": "python3"
  },
  "language_info": {
   "codemirror_mode": {
    "name": "ipython",
    "version": 3
   },
   "file_extension": ".py",
   "mimetype": "text/x-python",
   "name": "python",
   "nbconvert_exporter": "python",
   "pygments_lexer": "ipython3",
   "version": "3.9.7"
  },
  "orig_nbformat": 4
 },
 "nbformat": 4,
 "nbformat_minor": 2
}
